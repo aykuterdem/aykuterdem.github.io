{
 "cells": [
  {
   "cell_type": "markdown",
   "metadata": {},
   "source": [
    "# BBM409 Week 2: Linear Algebra Recitation"
   ]
  },
  {
   "cell_type": "markdown",
   "metadata": {},
   "source": [
    "We will review some linear algebra operations on Python using numpy. "
   ]
  },
  {
   "cell_type": "markdown",
   "metadata": {},
   "source": [
    "## Linear Space"
   ]
  },
  {
   "cell_type": "markdown",
   "metadata": {},
   "source": [
    "$A \\in R^{m\\times n}$, $x_R \\in R^n$, $x_C \\in R^m$\n",
    "\n",
    "$A_{m,n} = \\begin{pmatrix}\n",
    "  a_{1,1} & a_{1,2} & \\cdots & a_{1,n} \\\\\n",
    "  a_{2,1} & a_{2,2} & \\cdots & a_{2,n} \\\\\n",
    "  \\vdots  & \\vdots  & \\ddots & \\vdots  \\\\\n",
    "  a_{m,1} & a_{m,2} & \\cdots & a_{m,n} \n",
    " \\end{pmatrix}$\n",
    " \n",
    " $x_{C} = \\begin{pmatrix}\n",
    "  x_{1}  \\\\\n",
    "  x_{2}  \\\\\n",
    "  \\vdots \\\\\n",
    "  x_{m} \n",
    " \\end{pmatrix}$\n",
    " \n",
    " $X_{R} = \\begin{pmatrix}\n",
    "  x_{1} & x_{2} & \\cdots & x_{n} \\\\\n",
    " \\end{pmatrix}$\n",
    " "
   ]
  },
  {
   "cell_type": "code",
   "execution_count": 21,
   "metadata": {
    "collapsed": false
   },
   "outputs": [
    {
     "name": "stdout",
     "output_type": "stream",
     "text": [
      "[[1 2]\n",
      " [3 4]]\n",
      "[1 2 3 4]\n",
      "[[1]\n",
      " [2]\n",
      " [3]\n",
      " [4]]\n",
      "[[1 2]\n",
      " [3 4]]\n",
      "[[ 7 10]\n",
      " [15 22]]\n"
     ]
    }
   ],
   "source": [
    "import numpy as np\n",
    "\n",
    "\n",
    "A = np.array([[1,2], [3,4]])\n",
    "print A\n",
    "A = np.array([1,2,3,4])\n",
    "print A\n",
    "B = np.reshape(A, (4,1))\n",
    "print B\n",
    "B = np.reshape(A, (2,2))\n",
    "print B\n",
    "\n"
   ]
  },
  {
   "cell_type": "markdown",
   "metadata": {},
   "source": [
    "## Matrix Multiplication\n",
    "\n",
    "$A^{m \\times n}$ , $B^{n \\times p}$  \n",
    "\n",
    "$C^{m \\times p} = AB$\n",
    "\n",
    "$C_{ij} = \\sum_{k=1}^{n}{A_{ik}B_{kj}}$\n",
    "\n",
    "$(AB)C = A(BC)$\n",
    "\n",
    "$A(B + C) = AB + AC$\n",
    "\n",
    "$AB \\neq BA$"
   ]
  },
  {
   "cell_type": "code",
   "execution_count": 27,
   "metadata": {
    "collapsed": false
   },
   "outputs": [
    {
     "name": "stdout",
     "output_type": "stream",
     "text": [
      "4\n",
      "(4, 1)\n",
      "[10]\n"
     ]
    }
   ],
   "source": [
    "A = np.array([1, 2, 3, 4])\n",
    "B= np. array([1, 1, 1, 1])\n",
    "print B.shape[0]\n",
    "B = np.reshape(B, (len(B), 1))\n",
    "print B.shape\n",
    "C = np.dot(A, B)\n",
    "\n",
    "print C"
   ]
  },
  {
   "cell_type": "markdown",
   "metadata": {},
   "source": [
    "## Operator and Properties\n",
    "\n",
    "### Transpose\n",
    "\n",
    "$A \\in R^{m \\times n}$\n",
    "\n",
    "$A^T \\in R^{n \\times m}$\n",
    "\n",
    "$(A^T)_{ij} = A_{ji}$\n",
    "\n",
    "$(A^T)^T = A$\n",
    "\n",
    "$(AB)^T = B^TA^T$\n",
    "\n",
    "$(A + B)^T = A^T + B^T$"
   ]
  },
  {
   "cell_type": "code",
   "execution_count": 33,
   "metadata": {
    "collapsed": false
   },
   "outputs": [
    {
     "name": "stdout",
     "output_type": "stream",
     "text": [
      "[[1 4]\n",
      " [2 5]\n",
      " [3 6]]\n"
     ]
    }
   ],
   "source": [
    "A = np.array([[1,2,3], [4, 5, 6]])\n",
    "\n",
    "print (A.T)"
   ]
  },
  {
   "cell_type": "markdown",
   "metadata": {},
   "source": [
    "### Trace\n",
    "\n",
    "np.trace() -  sum along diagonal"
   ]
  },
  {
   "cell_type": "code",
   "execution_count": 43,
   "metadata": {
    "collapsed": false
   },
   "outputs": [
    {
     "name": "stdout",
     "output_type": "stream",
     "text": [
      "1.87456410439\n",
      "\n",
      "\n",
      "[[ 0.42892435  0.16383118  0.4993835 ]\n",
      " [ 0.67830708  0.21747773  0.15608294]\n",
      " [ 0.65055393  0.85312928  0.3007772 ]]\n",
      "\n",
      "\n",
      "[ 0.42892435  0.21747773  0.3007772 ]\n",
      "\n",
      "\n",
      "0.947179270816\n",
      "\n",
      "\n",
      "0.947179270816\n"
     ]
    }
   ],
   "source": [
    "print np.trace(A)\n",
    "\n",
    "A = np.random.rand(3,3)\n",
    "print('\\n')\n",
    "print A\n",
    "print('\\n')\n",
    "print np.diag(A)\n",
    "D = np. diag(A)\n",
    "\n",
    "print('\\n')\n",
    "print np.sum(D)\n",
    "print('\\n')\n",
    "print np.trace(A)"
   ]
  },
  {
   "cell_type": "markdown",
   "metadata": {},
   "source": [
    "### Identity Matrix\n",
    "\n",
    "$ I = I_n \\in R^{n \\times n}$,  $\\forall A \\in R^{n \\times n} : AI_n = I_nA = A$"
   ]
  },
  {
   "cell_type": "code",
   "execution_count": 45,
   "metadata": {
    "collapsed": false
   },
   "outputs": [
    {
     "name": "stdout",
     "output_type": "stream",
     "text": [
      "[[ 1.  0.  0.  0.  0.]\n",
      " [ 0.  1.  0.  0.  0.]\n",
      " [ 0.  0.  1.  0.  0.]\n",
      " [ 0.  0.  0.  1.  0.]\n",
      " [ 0.  0.  0.  0.  1.]]\n"
     ]
    }
   ],
   "source": [
    "A= np.identity(5)\n",
    "print A"
   ]
  },
  {
   "cell_type": "markdown",
   "metadata": {},
   "source": [
    "### Symmetric Matrix\n",
    "\n",
    "$A = A^T$"
   ]
  },
  {
   "cell_type": "markdown",
   "metadata": {},
   "source": [
    "### Orthogonal Matrix\n",
    "\n",
    "Square matrix where $AA^T = A^TA = I$"
   ]
  },
  {
   "cell_type": "markdown",
   "metadata": {},
   "source": [
    "### Vector Norm"
   ]
  },
  {
   "cell_type": "markdown",
   "metadata": {},
   "source": [
    "A norm of a vector space V is a function $\\| .\\|: V \\rightarrow R^+$\n",
    "\n",
    "$\\| x \\| = 0 $ iff $x = 0$\n",
    "\n",
    "$\\| \\alpha x \\| = |\\alpha| * \\| x \\| $\n",
    "\n",
    "\n",
    "Norm of a vector is measure of its magnitude.\n",
    "\n",
    "$ \\| x \\|_{p} = (\\sum_{i=1}^{n}x_i^{p})^{1/p}$"
   ]
  },
  {
   "cell_type": "code",
   "execution_count": 60,
   "metadata": {
    "collapsed": false
   },
   "outputs": [
    {
     "name": "stdout",
     "output_type": "stream",
     "text": [
      "[[ 1.]\n",
      " [ 1.]\n",
      " [ 1.]\n",
      " [ 1.]\n",
      " [ 1.]\n",
      " [ 1.]\n",
      " [ 1.]\n",
      " [ 1.]\n",
      " [ 1.]\n",
      " [ 1.]]\n",
      "3.16227766017\n"
     ]
    },
    {
     "data": {
      "text/plain": [
       "3.1622776601683795"
      ]
     },
     "execution_count": 60,
     "metadata": {},
     "output_type": "execute_result"
    }
   ],
   "source": [
    "x = np.ones((10, 1))\n",
    "print x\n",
    "print np.linalg.norm(x, 2)\n",
    "\n",
    "np.sqrt(10)"
   ]
  },
  {
   "cell_type": "markdown",
   "metadata": {},
   "source": [
    "### Inverse of Matrix\n",
    "\n",
    "$A \\in R^{n \\times n}$ is invertible $\\exists B \\in R^{n \\times n}$ such that $AB=I=BA$\n",
    "\n",
    "Easiest way to check if matrix is invertible is to see if determinant is not 0."
   ]
  },
  {
   "cell_type": "code",
   "execution_count": 64,
   "metadata": {
    "collapsed": false
   },
   "outputs": [
    {
     "data": {
      "text/plain": [
       "array([[  1.00000000e+00,   0.00000000e+00],\n",
       "       [ -5.55111512e-17,   1.00000000e+00]])"
      ]
     },
     "execution_count": 64,
     "metadata": {},
     "output_type": "execute_result"
    }
   ],
   "source": [
    "A = np.array([[3, 4], [1,6]])\n",
    "detA=np.linalg.det(A)\n",
    "invA=np.linalg.inv(A)\n",
    "np.dot(A, invA)"
   ]
  },
  {
   "cell_type": "markdown",
   "metadata": {},
   "source": [
    "# BBM409 Week 2: kNN Algorithm"
   ]
  },
  {
   "cell_type": "code",
   "execution_count": 65,
   "metadata": {
    "collapsed": false
   },
   "outputs": [
    {
     "name": "stdout",
     "output_type": "stream",
     "text": [
      "[0 0 0 0 0 0 0 0 0 0 0 0 0 0 0 0 0 0 0 0 0 0 0 0 0 0 0 0 0 0 0 0 0 0 0 0 0\n",
      " 0 0 0 0 0 0 0 0 0 0 0 0 0 1 1 1 1 1 1 1 1 1 1 1 1 1 1 1 1 1 1 1 1 1 1 1 1\n",
      " 1 1 1 1 1 1 1 1 1 1 1 1 1 1 1 1 1 1 1 1 1 1 1 1 1 1 2 2 2 2 2 2 2 2 2 2 2\n",
      " 2 2 2 2 2 2 2 2 2 2 2 2 2 2 2 2 2 2 2 2 2 2 2 2 2 2 2 2 2 2 2 2 2 2 2 2 2\n",
      " 2 2]\n",
      "(150, 4)\n",
      "(150,)\n"
     ]
    }
   ],
   "source": [
    "import numpy as np \n",
    "import matplotlib.pyplot as plt \n",
    "from matplotlib.colors import ListedColormap \n",
    "from sklearn import neighbors, datasets\n",
    "\n",
    "k = 10 \n",
    "iris = datasets.load_iris() \n",
    "X = iris.data\n",
    "\n",
    "y = iris.target\n",
    "print y \n",
    "print X.shape\n",
    "print y.shape\n"
   ]
  },
  {
   "cell_type": "code",
   "execution_count": null,
   "metadata": {
    "collapsed": true
   },
   "outputs": [],
   "source": []
  },
  {
   "cell_type": "code",
   "execution_count": null,
   "metadata": {
    "collapsed": true
   },
   "outputs": [],
   "source": []
  },
  {
   "cell_type": "code",
   "execution_count": null,
   "metadata": {
    "collapsed": true
   },
   "outputs": [],
   "source": []
  }
 ],
 "metadata": {
  "kernelspec": {
   "display_name": "Python 2",
   "language": "python",
   "name": "python2"
  },
  "language_info": {
   "codemirror_mode": {
    "name": "ipython",
    "version": 2
   },
   "file_extension": ".py",
   "mimetype": "text/x-python",
   "name": "python",
   "nbconvert_exporter": "python",
   "pygments_lexer": "ipython2",
   "version": "2.7.13"
  }
 },
 "nbformat": 4,
 "nbformat_minor": 2
}
